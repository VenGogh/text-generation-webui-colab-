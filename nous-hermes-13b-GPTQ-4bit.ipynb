{
  "cells": [
    {
      "cell_type": "markdown",
      "metadata": {
        "id": "view-in-github"
      },
      "source": [
        "[![Open In Colab](https://colab.research.google.com/assets/colab-badge.svg)](https://colab.research.google.com/github/camenduru/text-generation-webui-colab/blob/main/nous-hermes-13b-GPTQ-4bit.ipynb)"
      ]
    },
    {
      "cell_type": "code",
      "execution_count": null,
      "metadata": {
        "id": "VCFOzsQSHbjM"
      },
      "outputs": [],
      "source": [
        "%cd /content\n",
        "!apt-get -y install -qq aria2\n",
        "\n",
        "!git clone -b v1.8 https://github.com/camenduru/text-generation-webui\n",
        "%cd /content/text-generation-webui\n",
        "!pip install -r requirements.txt\n",
        "\n",
        "!aria2c --console-log-level=error -c -x 16 -s 16 -k 1M https://huggingface.co/4bit/Nous-Hermes-Llama2-13b-GPTQ/resolve/main/gptq_model-4bit-128g.safetensors -d /content/text-generation-webui/models/Nous-Hermes-Llama2-13b-GPTQ -o gptq_model-4bit-128g.safetensors\n",
        "!aria2c --console-log-level=error -c -x 16 -s 16 -k 1M https://huggingface.co/4bit/Nous-Hermes-Llama2-13b-GPTQ/raw/main/special_tokens_map.json -d /content/text-generation-webui/models/Nous-Hermes-Llama2-13b-GPTQ -o special_tokens_map.json\n",
        "!aria2c --console-log-level=error -c -x 16 -s 16 -k 1M https://huggingface.co/4bit/Nous-Hermes-Llama2-13b-GPTQ/resolve/main/tokenizer.model -d /content/text-generation-webui/models/Nous-Hermes-Llama2-13b-GPTQ -o tokenizer.model\n",
        "!aria2c --console-log-level=error -c -x 16 -s 16 -k 1M https://huggingface.co/4bit/Nous-Hermes-Llama2-13b-GPTQ/raw/main/tokenizer_config.json -d /content/text-generation-webui/models/Nous-Hermes-Llama2-13b-GPTQ -o tokenizer_config.json\n",
        "!aria2c --console-log-level=error -c -x 16 -s 16 -k 1M https://huggingface.co/4bit/Nous-Hermes-Llama2-13b-GPTQ/raw/main/config.json -d /content/text-generation-webui/models/Nous-Hermes-Llama2-13b-GPTQ -o config.json\n",
        "!aria2c --console-log-level=error -c -x 16 -s 16 -k 1M https://huggingface.co/4bit/Nous-Hermes-Llama2-13b-GPTQ/raw/main/generation_config.json -d /content/text-generation-webui/models/Nous-Hermes-Llama2-13b-GPTQ -o generation_config.json\n",
        "!aria2c --console-log-level=error -c -x 16 -s 16 -k 1M https://huggingface.co/4bit/Nous-Hermes-Llama2-13b-GPTQ/raw/main/quantize_config.json -d /content/text-generation-webui/models/Nous-Hermes-Llama2-13b-GPTQ -o quantize_config.json\n",
        "\n",
        "%cd /content/text-generation-webui\n",
        "!python server.py --share --chat --wbits 4 --groupsize 128 --model /content/text-generation-webui/models/Nous-Hermes-Llama2-13b-GPTQ"
      ]
    }
  ],
  "metadata": {
    "accelerator": "GPU",
    "colab": {
      "provenance": []
    },
    "gpuClass": "standard",
    "kernelspec": {
      "display_name": "Python 3",
      "name": "python3"
    },
    "language_info": {
      "name": "python"
    }
  },
  "nbformat": 4,
  "nbformat_minor": 0
}
